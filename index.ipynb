{
 "cells": [
  {
   "cell_type": "markdown",
   "metadata": {},
   "source": [
    "# Network Dynamics: Node Centrality - Lab\n",
    "\n",
    "## Introduction\n",
    "\n",
    "In this lab, you'll get a chance to practice implementing and interpreting the centrality metrics from the previous section. You'll do this be investigating the social network from Game of Thrones!\n",
    "\n",
    "## Objectives\n",
    "You will be able to:\n",
    "- Understand and explain network centrality and its importance in graph analysis\n",
    "- Understand and calculate Degree, Closeness, Betweenness and Eigenvector centrality measures\n",
    "- Describe the use case for several centrality measures"
   ]
  },
  {
   "cell_type": "markdown",
   "metadata": {
    "collapsed": true
   },
   "source": [
    "## Character Interaction Graph Data\n",
    "\n",
    "A. J. Beveridge, and J. Shan  created a network from George R. Martin's \"A song of ice and fire\" by extracting relationships between characters of the story. [The dataset is available at Github](https://github.com/mathbeveridge/asoiaf). Relationships between characters were formed every time a character's name appears within 15 words of another character. This was designed as an approximate metric for character's interactions with each other. The results of this simple analysis are quite profound and produce interesting visuals such as this graph:\n",
    "\n",
    "<img src=\"images/got.png\" width=800>\n",
    "\n",
    "With that, it's your turn to start investigating the most central characters!"
   ]
  },
  {
   "cell_type": "code",
   "execution_count": 1,
   "metadata": {},
   "outputs": [],
   "source": [
    "import pandas as pd\n",
    "import networkx as nx\n",
    "import matplotlib.pyplot as plt\n",
    "import seaborn as sns\n",
    "sns.set_style('darkgrid')\n",
    "import warnings\n",
    "warnings.filterwarnings('ignore')\n",
    "\n",
    "%matplotlib inline"
   ]
  },
  {
   "cell_type": "markdown",
   "metadata": {},
   "source": [
    "##  Load the dataset \n",
    "\n",
    "Start by loading the dataset as a pandas DataFrame. From this, you'll then create a network representation of the dataset using NetworkX. \n",
    "\n",
    "The dataset is stored in the file `asoiaf-all-edges.csv`."
   ]
  },
  {
   "cell_type": "code",
   "execution_count": 2,
   "metadata": {},
   "outputs": [
    {
     "data": {
      "text/html": [
       "<div>\n",
       "<style scoped>\n",
       "    .dataframe tbody tr th:only-of-type {\n",
       "        vertical-align: middle;\n",
       "    }\n",
       "\n",
       "    .dataframe tbody tr th {\n",
       "        vertical-align: top;\n",
       "    }\n",
       "\n",
       "    .dataframe thead th {\n",
       "        text-align: right;\n",
       "    }\n",
       "</style>\n",
       "<table border=\"1\" class=\"dataframe\">\n",
       "  <thead>\n",
       "    <tr style=\"text-align: right;\">\n",
       "      <th></th>\n",
       "      <th>Source</th>\n",
       "      <th>Target</th>\n",
       "      <th>Type</th>\n",
       "      <th>id</th>\n",
       "      <th>weight</th>\n",
       "    </tr>\n",
       "  </thead>\n",
       "  <tbody>\n",
       "    <tr>\n",
       "      <th>0</th>\n",
       "      <td>Addam-Marbrand</td>\n",
       "      <td>Brynden-Tully</td>\n",
       "      <td>Undirected</td>\n",
       "      <td>0</td>\n",
       "      <td>3</td>\n",
       "    </tr>\n",
       "    <tr>\n",
       "      <th>1</th>\n",
       "      <td>Addam-Marbrand</td>\n",
       "      <td>Cersei-Lannister</td>\n",
       "      <td>Undirected</td>\n",
       "      <td>1</td>\n",
       "      <td>3</td>\n",
       "    </tr>\n",
       "    <tr>\n",
       "      <th>2</th>\n",
       "      <td>Addam-Marbrand</td>\n",
       "      <td>Gyles-Rosby</td>\n",
       "      <td>Undirected</td>\n",
       "      <td>2</td>\n",
       "      <td>3</td>\n",
       "    </tr>\n",
       "    <tr>\n",
       "      <th>3</th>\n",
       "      <td>Addam-Marbrand</td>\n",
       "      <td>Jaime-Lannister</td>\n",
       "      <td>Undirected</td>\n",
       "      <td>3</td>\n",
       "      <td>14</td>\n",
       "    </tr>\n",
       "    <tr>\n",
       "      <th>4</th>\n",
       "      <td>Addam-Marbrand</td>\n",
       "      <td>Jalabhar-Xho</td>\n",
       "      <td>Undirected</td>\n",
       "      <td>4</td>\n",
       "      <td>3</td>\n",
       "    </tr>\n",
       "  </tbody>\n",
       "</table>\n",
       "</div>"
      ],
      "text/plain": [
       "           Source            Target        Type  id  weight\n",
       "0  Addam-Marbrand     Brynden-Tully  Undirected   0       3\n",
       "1  Addam-Marbrand  Cersei-Lannister  Undirected   1       3\n",
       "2  Addam-Marbrand       Gyles-Rosby  Undirected   2       3\n",
       "3  Addam-Marbrand   Jaime-Lannister  Undirected   3      14\n",
       "4  Addam-Marbrand      Jalabhar-Xho  Undirected   4       3"
      ]
     },
     "execution_count": 2,
     "metadata": {},
     "output_type": "execute_result"
    }
   ],
   "source": [
    "# Load edges into dataframes\n",
    "df = pd.read_csv('asoiaf-all-edges.csv')\n",
    "df.head()"
   ]
  },
  {
   "cell_type": "markdown",
   "metadata": {},
   "source": [
    "## Create Empty graph instances for each book"
   ]
  },
  {
   "cell_type": "code",
   "execution_count": 3,
   "metadata": {},
   "outputs": [],
   "source": [
    "# Create empty instances for each book above\n",
    "G = nx.Graph()"
   ]
  },
  {
   "cell_type": "markdown",
   "metadata": {},
   "source": [
    "## Create a Graph\n",
    "\n",
    "Now that you have the data loaded as a pandas DataFrame, iterate through the data and create appropriate edges to the empty graph you instantiated above. Be sure to add the weight to each edge."
   ]
  },
  {
   "cell_type": "code",
   "execution_count": 4,
   "metadata": {},
   "outputs": [],
   "source": [
    "# Read edge lists into dataframes\n",
    "for index, row in df.iterrows():\n",
    "    if row['Source'] not in G:\n",
    "        G.add_node(row['Source'])\n",
    "        \n",
    "    if row['Target'] not in G:\n",
    "        G.add_node(row['Target'])\n",
    "    \n",
    "    G.add_edge(row['Source'], row['Target'], weight=row['weight'])"
   ]
  },
  {
   "cell_type": "markdown",
   "metadata": {},
   "source": [
    "## Calculate Degree\n",
    "\n",
    "To start the investigation of the most central characters in the books, calculate the degree centrality for each character. Then create a bar graph of the top 10 characters according to degree centrality."
   ]
  },
  {
   "cell_type": "code",
   "execution_count": 5,
   "metadata": {},
   "outputs": [],
   "source": [
    "#Your code here\n",
    "degrees = {}\n",
    "for node in G:\n",
    "    degrees[node] = G.degree(node)\n",
    "top_10_names = sorted(degrees, key=degrees.get, reverse=True)[:10]\n",
    "top_10_names\n",
    "top_10_values = sorted(list(degrees.values())[:10])"
   ]
  },
  {
   "cell_type": "code",
   "execution_count": 6,
   "metadata": {},
   "outputs": [
    {
     "data": {
      "text/plain": [
       "<BarContainer object of 10 artists>"
      ]
     },
     "execution_count": 6,
     "metadata": {},
     "output_type": "execute_result"
    },
    {
     "data": {
      "image/png": "[encoded data removed]",
      "text/plain": [
       "<Figure size 1080x576 with 1 Axes>"
      ]
     },
     "metadata": {
      "needs_background": "light"
     },
     "output_type": "display_data"
    }
   ],
   "source": [
    "import matplotlib.pyplot as plt\n",
    "fig = plt.figure(figsize=(15, 8))\n",
    "plt.bar(top_10_names, top_10_values)"
   ]
  },
  {
   "cell_type": "markdown",
   "metadata": {},
   "source": [
    "## Closeness Centrality\n",
    "\n",
    "Repeat the above exercise for the top 10 characters according to closeness centrality."
   ]
  },
  {
   "cell_type": "code",
   "execution_count": 7,
   "metadata": {},
   "outputs": [],
   "source": [
    "#Your code here\n",
    "from networkx import closeness_centrality\n",
    "closeness = {}\n",
    "closeness = closeness_centrality(G)\n",
    "top_10_names = sorted(closeness, key=closeness.get, reverse=True)[:10]\n",
    "top_10_names\n",
    "top_10_values = sorted(list(closeness.values())[:10])"
   ]
  },
  {
   "cell_type": "code",
   "execution_count": 8,
   "metadata": {},
   "outputs": [
    {
     "data": {
      "text/plain": [
       "<BarContainer object of 10 artists>"
      ]
     },
     "execution_count": 8,
     "metadata": {},
     "output_type": "execute_result"
    },
    {
     "data": {
      "image/png": "[encoded data removed]",
      "text/plain": [
       "<Figure size 1080x576 with 1 Axes>"
      ]
     },
     "metadata": {
      "needs_background": "light"
     },
     "output_type": "display_data"
    }
   ],
   "source": [
    "fig = plt.figure(figsize=(15, 8))\n",
    "plt.bar(top_10_names, top_10_values)"
   ]
  },
  {
   "cell_type": "markdown",
   "metadata": {},
   "source": [
    "## Betweeness Centrality\n",
    "\n",
    "Repeat the process one more time for betweeness centrality."
   ]
  },
  {
   "cell_type": "code",
   "execution_count": 9,
   "metadata": {},
   "outputs": [],
   "source": [
    "#Your code here\n",
    "from networkx import betweenness_centrality\n",
    "betweenness = betweenness_centrality(G)\n",
    "top_10_names = sorted(betweenness, key=betweenness.get, reverse=True)[:10]\n",
    "top_10_names\n",
    "top_10_values = sorted(list(betweenness.values())[:10])"
   ]
  },
  {
   "cell_type": "code",
   "execution_count": 10,
   "metadata": {},
   "outputs": [
    {
     "data": {
      "text/plain": [
       "<BarContainer object of 10 artists>"
      ]
     },
     "execution_count": 10,
     "metadata": {},
     "output_type": "execute_result"
    },
    {
     "data": {
      "image/png": "[encoded data removed]",
      "text/plain": [
       "<Figure size 1080x576 with 1 Axes>"
      ]
     },
     "metadata": {
      "needs_background": "light"
     },
     "output_type": "display_data"
    }
   ],
   "source": [
    "fig = plt.figure(figsize=(15, 8))\n",
    "plt.bar(top_10_names, top_10_values)"
   ]
  },
  {
   "cell_type": "markdown",
   "metadata": {},
   "source": [
    "## Putting it All Together\n",
    "\n",
    "Great! Now try putting all of these metrics together along with eigenvector centrality. Combine all four metrics into a single dataframe for each character."
   ]
  },
  {
   "cell_type": "code",
   "execution_count": 11,
   "metadata": {},
   "outputs": [
    {
     "data": {
      "text/html": [
       "<div>\n",
       "<style scoped>\n",
       "    .dataframe tbody tr th:only-of-type {\n",
       "        vertical-align: middle;\n",
       "    }\n",
       "\n",
       "    .dataframe tbody tr th {\n",
       "        vertical-align: top;\n",
       "    }\n",
       "\n",
       "    .dataframe thead th {\n",
       "        text-align: right;\n",
       "    }\n",
       "</style>\n",
       "<table border=\"1\" class=\"dataframe\">\n",
       "  <thead>\n",
       "    <tr style=\"text-align: right;\">\n",
       "      <th></th>\n",
       "      <th>Addam-Marbrand</th>\n",
       "      <th>Brynden-Tully</th>\n",
       "      <th>Cersei-Lannister</th>\n",
       "      <th>Gyles-Rosby</th>\n",
       "      <th>Jaime-Lannister</th>\n",
       "      <th>Jalabhar-Xho</th>\n",
       "      <th>Joffrey-Baratheon</th>\n",
       "      <th>Kevan-Lannister</th>\n",
       "      <th>Lyle-Crakehall</th>\n",
       "      <th>Oberyn-Martell</th>\n",
       "      <th>...</th>\n",
       "      <th>Shrouded-Lord</th>\n",
       "      <th>Simon-Toyne</th>\n",
       "      <th>Theomore</th>\n",
       "      <th>William-Foxglove</th>\n",
       "      <th>Werlag</th>\n",
       "      <th>Talbert-Serry</th>\n",
       "      <th>Willow-Witch-eye</th>\n",
       "      <th>Thistle</th>\n",
       "      <th>Tion-Frey</th>\n",
       "      <th>Wulfe</th>\n",
       "    </tr>\n",
       "  </thead>\n",
       "  <tbody>\n",
       "    <tr>\n",
       "      <th>0</th>\n",
       "      <td>0.052658</td>\n",
       "      <td>0.060019</td>\n",
       "      <td>0.235771</td>\n",
       "      <td>0.059528</td>\n",
       "      <td>0.226339</td>\n",
       "      <td>0.012674</td>\n",
       "      <td>0.214376</td>\n",
       "      <td>0.073661</td>\n",
       "      <td>0.015552</td>\n",
       "      <td>0.065783</td>\n",
       "      <td>...</td>\n",
       "      <td>0.008803</td>\n",
       "      <td>0.000007</td>\n",
       "      <td>0.007738</td>\n",
       "      <td>0.006372</td>\n",
       "      <td>0.003721</td>\n",
       "      <td>0.000329</td>\n",
       "      <td>0.003586</td>\n",
       "      <td>0.000251</td>\n",
       "      <td>0.000310</td>\n",
       "      <td>0.000329</td>\n",
       "    </tr>\n",
       "    <tr>\n",
       "      <th>1</th>\n",
       "      <td>0.345803</td>\n",
       "      <td>0.371495</td>\n",
       "      <td>0.454545</td>\n",
       "      <td>0.339453</td>\n",
       "      <td>0.451961</td>\n",
       "      <td>0.313733</td>\n",
       "      <td>0.433952</td>\n",
       "      <td>0.362682</td>\n",
       "      <td>0.312992</td>\n",
       "      <td>0.356023</td>\n",
       "      <td>...</td>\n",
       "      <td>0.322777</td>\n",
       "      <td>0.178571</td>\n",
       "      <td>0.311033</td>\n",
       "      <td>0.307901</td>\n",
       "      <td>0.297641</td>\n",
       "      <td>0.250315</td>\n",
       "      <td>0.297530</td>\n",
       "      <td>0.236889</td>\n",
       "      <td>0.236678</td>\n",
       "      <td>0.250315</td>\n",
       "    </tr>\n",
       "    <tr>\n",
       "      <th>2</th>\n",
       "      <td>0.000470</td>\n",
       "      <td>0.002227</td>\n",
       "      <td>0.088704</td>\n",
       "      <td>0.000415</td>\n",
       "      <td>0.100838</td>\n",
       "      <td>0.000807</td>\n",
       "      <td>0.031759</td>\n",
       "      <td>0.001893</td>\n",
       "      <td>0.000009</td>\n",
       "      <td>0.009803</td>\n",
       "      <td>...</td>\n",
       "      <td>0.000000</td>\n",
       "      <td>0.000000</td>\n",
       "      <td>0.000000</td>\n",
       "      <td>0.000000</td>\n",
       "      <td>0.000000</td>\n",
       "      <td>0.000000</td>\n",
       "      <td>0.000000</td>\n",
       "      <td>0.000000</td>\n",
       "      <td>0.000000</td>\n",
       "      <td>0.000000</td>\n",
       "    </tr>\n",
       "    <tr>\n",
       "      <th>3</th>\n",
       "      <td>12.000000</td>\n",
       "      <td>19.000000</td>\n",
       "      <td>97.000000</td>\n",
       "      <td>18.000000</td>\n",
       "      <td>101.000000</td>\n",
       "      <td>5.000000</td>\n",
       "      <td>69.000000</td>\n",
       "      <td>17.000000</td>\n",
       "      <td>5.000000</td>\n",
       "      <td>20.000000</td>\n",
       "      <td>...</td>\n",
       "      <td>1.000000</td>\n",
       "      <td>1.000000</td>\n",
       "      <td>2.000000</td>\n",
       "      <td>1.000000</td>\n",
       "      <td>2.000000</td>\n",
       "      <td>1.000000</td>\n",
       "      <td>1.000000</td>\n",
       "      <td>1.000000</td>\n",
       "      <td>1.000000</td>\n",
       "      <td>1.000000</td>\n",
       "    </tr>\n",
       "  </tbody>\n",
       "</table>\n",
       "<p>4 rows × 796 columns</p>\n",
       "</div>"
      ],
      "text/plain": [
       "   Addam-Marbrand  Brynden-Tully  Cersei-Lannister  Gyles-Rosby  \\\n",
       "0        0.052658       0.060019          0.235771     0.059528   \n",
       "1        0.345803       0.371495          0.454545     0.339453   \n",
       "2        0.000470       0.002227          0.088704     0.000415   \n",
       "3       12.000000      19.000000         97.000000    18.000000   \n",
       "\n",
       "   Jaime-Lannister  Jalabhar-Xho  Joffrey-Baratheon  Kevan-Lannister  \\\n",
       "0         0.226339      0.012674           0.214376         0.073661   \n",
       "1         0.451961      0.313733           0.433952         0.362682   \n",
       "2         0.100838      0.000807           0.031759         0.001893   \n",
       "3       101.000000      5.000000          69.000000        17.000000   \n",
       "\n",
       "   Lyle-Crakehall  Oberyn-Martell    ...     Shrouded-Lord  Simon-Toyne  \\\n",
       "0        0.015552        0.065783    ...          0.008803     0.000007   \n",
       "1        0.312992        0.356023    ...          0.322777     0.178571   \n",
       "2        0.000009        0.009803    ...          0.000000     0.000000   \n",
       "3        5.000000       20.000000    ...          1.000000     1.000000   \n",
       "\n",
       "   Theomore  William-Foxglove    Werlag  Talbert-Serry  Willow-Witch-eye  \\\n",
       "0  0.007738          0.006372  0.003721       0.000329          0.003586   \n",
       "1  0.311033          0.307901  0.297641       0.250315          0.297530   \n",
       "2  0.000000          0.000000  0.000000       0.000000          0.000000   \n",
       "3  2.000000          1.000000  2.000000       1.000000          1.000000   \n",
       "\n",
       "    Thistle  Tion-Frey     Wulfe  \n",
       "0  0.000251   0.000310  0.000329  \n",
       "1  0.236889   0.236678  0.250315  \n",
       "2  0.000000   0.000000  0.000000  \n",
       "3  1.000000   1.000000  1.000000  \n",
       "\n",
       "[4 rows x 796 columns]"
      ]
     },
     "execution_count": 11,
     "metadata": {},
     "output_type": "execute_result"
    }
   ],
   "source": [
    "#Your code here\n",
    "from networkx import eigenvector_centrality\n",
    "centrality = {}\n",
    "eigenvector = eigenvector_centrality(G)\n",
    "for node in G:\n",
    "    centrality[node] = [eigenvector[node],\n",
    "                       closeness[node],\n",
    "                       betweenness[node],\n",
    "                       degrees[node]]\n",
    "df = pd.DataFrame(centrality)\n",
    "df.set_index(pd.Index(['eigenvector', 'closeness', 'betweenness', 'degrees']))\n",
    "\n",
    "df"
   ]
  },
  {
   "cell_type": "markdown",
   "metadata": {},
   "source": [
    "## Identifying Key Players\n",
    "\n",
    "While centrality can tell us a lot, you've also begun to see how certain individuals may not be the most central characters, but can be pivotal in the flow of information from one community to another. In the previous lesson, such nodes were labeled as 'bridges' acting as the intermediaries between two clusters. Try and identify such characters from this dataset."
   ]
  },
  {
   "cell_type": "code",
   "execution_count": null,
   "metadata": {},
   "outputs": [],
   "source": [
    "#Your code here"
   ]
  },
  {
   "cell_type": "markdown",
   "metadata": {},
   "source": [
    "## Drawing the Graph\n",
    "\n",
    "To visualize all of these relationships, draw a graph of the network."
   ]
  },
  {
   "cell_type": "code",
   "execution_count": 12,
   "metadata": {},
   "outputs": [
    {
     "data": {
      "image/png": "[encoded data removed]",
      "text/plain": [
       "<Figure size 432x288 with 1 Axes>"
      ]
     },
     "metadata": {},
     "output_type": "display_data"
    }
   ],
   "source": [
    "#Your code here\n",
    "nx.draw(G)"
   ]
  },
  {
   "cell_type": "markdown",
   "metadata": {},
   "source": [
    "## Subsetting the Graph\n",
    "\n",
    "As you can see, the above graph is undoubtedly noisy, making it difficult to discern any useful patterns. As such, reset the graph and only add edges whose weight is 75 or greater. From there, redraw the graph. To further help with the display, try using `nx.spring_layout(G, random_state=8)` for the position. To jazz it up, try and recolor those nodes which you identified as bridge or bottlekneck nodes to communication."
   ]
  },
  {
   "cell_type": "code",
   "execution_count": null,
   "metadata": {},
   "outputs": [],
   "source": [
    "#Your code here"
   ]
  },
  {
   "cell_type": "markdown",
   "metadata": {},
   "source": [
    "## Summary \n",
    "\n",
    "In this lab, we looked at different centrality measures of the graph data for the ASIOF dataset. We also compared these measures to see how they correlate with each other. We also saw in practice, the difference between taking the weighted centrality measures and how it may effect the results. "
   ]
  }
 ],
 "metadata": {
  "kernelspec": {
   "display_name": "Python 3",
   "language": "python",
   "name": "python3"
  },
  "language_info": {
   "codemirror_mode": {
    "name": "ipython",
    "version": 3
   },
   "file_extension": ".py",
   "mimetype": "text/x-python",
   "name": "python",
   "nbconvert_exporter": "python",
   "pygments_lexer": "ipython3",
   "version": "3.6.6"
  }
 },
 "nbformat": 4,
 "nbformat_minor": 2
}
